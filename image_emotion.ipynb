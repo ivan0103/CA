{
 "cells": [
  {
   "cell_type": "code",
   "id": "initial_id",
   "metadata": {
    "collapsed": true,
    "ExecuteTime": {
     "end_time": "2025-03-11T20:18:49.295129Z",
     "start_time": "2025-03-11T20:18:48.181363Z"
    }
   },
   "source": "%pip install tensorflow tf-keras deepface opencv-python",
   "outputs": [
    {
     "name": "stdout",
     "output_type": "stream",
     "text": [
      "Requirement already satisfied: tensorflow in /Users/itsmatoosh/Coding/Assignments/Uni/Statistical Learning/tud-statistical-learning-practice/.venv/lib/python3.11/site-packages (2.18.0)\r\n",
      "Requirement already satisfied: tf-keras in /Users/itsmatoosh/Coding/Assignments/Uni/Statistical Learning/tud-statistical-learning-practice/.venv/lib/python3.11/site-packages (2.18.0)\r\n",
      "Requirement already satisfied: deepface in /Users/itsmatoosh/Coding/Assignments/Uni/Statistical Learning/tud-statistical-learning-practice/.venv/lib/python3.11/site-packages (0.0.93)\r\n",
      "Requirement already satisfied: opencv-python in /Users/itsmatoosh/Coding/Assignments/Uni/Statistical Learning/tud-statistical-learning-practice/.venv/lib/python3.11/site-packages (4.11.0.86)\r\n",
      "Requirement already satisfied: absl-py>=1.0.0 in /Users/itsmatoosh/Coding/Assignments/Uni/Statistical Learning/tud-statistical-learning-practice/.venv/lib/python3.11/site-packages (from tensorflow) (2.1.0)\r\n",
      "Requirement already satisfied: astunparse>=1.6.0 in /Users/itsmatoosh/Coding/Assignments/Uni/Statistical Learning/tud-statistical-learning-practice/.venv/lib/python3.11/site-packages (from tensorflow) (1.6.3)\r\n",
      "Requirement already satisfied: flatbuffers>=24.3.25 in /Users/itsmatoosh/Coding/Assignments/Uni/Statistical Learning/tud-statistical-learning-practice/.venv/lib/python3.11/site-packages (from tensorflow) (25.2.10)\r\n",
      "Requirement already satisfied: gast!=0.5.0,!=0.5.1,!=0.5.2,>=0.2.1 in /Users/itsmatoosh/Coding/Assignments/Uni/Statistical Learning/tud-statistical-learning-practice/.venv/lib/python3.11/site-packages (from tensorflow) (0.6.0)\r\n",
      "Requirement already satisfied: google-pasta>=0.1.1 in /Users/itsmatoosh/Coding/Assignments/Uni/Statistical Learning/tud-statistical-learning-practice/.venv/lib/python3.11/site-packages (from tensorflow) (0.2.0)\r\n",
      "Requirement already satisfied: libclang>=13.0.0 in /Users/itsmatoosh/Coding/Assignments/Uni/Statistical Learning/tud-statistical-learning-practice/.venv/lib/python3.11/site-packages (from tensorflow) (18.1.1)\r\n",
      "Requirement already satisfied: opt-einsum>=2.3.2 in /Users/itsmatoosh/Coding/Assignments/Uni/Statistical Learning/tud-statistical-learning-practice/.venv/lib/python3.11/site-packages (from tensorflow) (3.4.0)\r\n",
      "Requirement already satisfied: packaging in /Users/itsmatoosh/Coding/Assignments/Uni/Statistical Learning/tud-statistical-learning-practice/.venv/lib/python3.11/site-packages (from tensorflow) (24.2)\r\n",
      "Requirement already satisfied: protobuf!=4.21.0,!=4.21.1,!=4.21.2,!=4.21.3,!=4.21.4,!=4.21.5,<6.0.0dev,>=3.20.3 in /Users/itsmatoosh/Coding/Assignments/Uni/Statistical Learning/tud-statistical-learning-practice/.venv/lib/python3.11/site-packages (from tensorflow) (5.29.3)\r\n",
      "Requirement already satisfied: requests<3,>=2.21.0 in /Users/itsmatoosh/Coding/Assignments/Uni/Statistical Learning/tud-statistical-learning-practice/.venv/lib/python3.11/site-packages (from tensorflow) (2.32.3)\r\n",
      "Requirement already satisfied: setuptools in /Users/itsmatoosh/Coding/Assignments/Uni/Statistical Learning/tud-statistical-learning-practice/.venv/lib/python3.11/site-packages (from tensorflow) (68.2.0)\r\n",
      "Requirement already satisfied: six>=1.12.0 in /Users/itsmatoosh/Coding/Assignments/Uni/Statistical Learning/tud-statistical-learning-practice/.venv/lib/python3.11/site-packages (from tensorflow) (1.17.0)\r\n",
      "Requirement already satisfied: termcolor>=1.1.0 in /Users/itsmatoosh/Coding/Assignments/Uni/Statistical Learning/tud-statistical-learning-practice/.venv/lib/python3.11/site-packages (from tensorflow) (2.5.0)\r\n",
      "Requirement already satisfied: typing-extensions>=3.6.6 in /Users/itsmatoosh/Coding/Assignments/Uni/Statistical Learning/tud-statistical-learning-practice/.venv/lib/python3.11/site-packages (from tensorflow) (4.12.2)\r\n",
      "Requirement already satisfied: wrapt>=1.11.0 in /Users/itsmatoosh/Coding/Assignments/Uni/Statistical Learning/tud-statistical-learning-practice/.venv/lib/python3.11/site-packages (from tensorflow) (1.17.2)\r\n",
      "Requirement already satisfied: grpcio<2.0,>=1.24.3 in /Users/itsmatoosh/Coding/Assignments/Uni/Statistical Learning/tud-statistical-learning-practice/.venv/lib/python3.11/site-packages (from tensorflow) (1.71.0)\r\n",
      "Requirement already satisfied: tensorboard<2.19,>=2.18 in /Users/itsmatoosh/Coding/Assignments/Uni/Statistical Learning/tud-statistical-learning-practice/.venv/lib/python3.11/site-packages (from tensorflow) (2.18.0)\r\n",
      "Requirement already satisfied: keras>=3.5.0 in /Users/itsmatoosh/Coding/Assignments/Uni/Statistical Learning/tud-statistical-learning-practice/.venv/lib/python3.11/site-packages (from tensorflow) (3.9.0)\r\n",
      "Requirement already satisfied: numpy<2.1.0,>=1.26.0 in /Users/itsmatoosh/Coding/Assignments/Uni/Statistical Learning/tud-statistical-learning-practice/.venv/lib/python3.11/site-packages (from tensorflow) (1.26.4)\r\n",
      "Requirement already satisfied: h5py>=3.11.0 in /Users/itsmatoosh/Coding/Assignments/Uni/Statistical Learning/tud-statistical-learning-practice/.venv/lib/python3.11/site-packages (from tensorflow) (3.13.0)\r\n",
      "Requirement already satisfied: ml-dtypes<0.5.0,>=0.4.0 in /Users/itsmatoosh/Coding/Assignments/Uni/Statistical Learning/tud-statistical-learning-practice/.venv/lib/python3.11/site-packages (from tensorflow) (0.4.1)\r\n",
      "Requirement already satisfied: tensorflow-io-gcs-filesystem>=0.23.1 in /Users/itsmatoosh/Coding/Assignments/Uni/Statistical Learning/tud-statistical-learning-practice/.venv/lib/python3.11/site-packages (from tensorflow) (0.37.1)\r\n",
      "Requirement already satisfied: pandas>=0.23.4 in /Users/itsmatoosh/Coding/Assignments/Uni/Statistical Learning/tud-statistical-learning-practice/.venv/lib/python3.11/site-packages (from deepface) (2.2.3)\r\n",
      "Requirement already satisfied: gdown>=3.10.1 in /Users/itsmatoosh/Coding/Assignments/Uni/Statistical Learning/tud-statistical-learning-practice/.venv/lib/python3.11/site-packages (from deepface) (5.2.0)\r\n",
      "Requirement already satisfied: tqdm>=4.30.0 in /Users/itsmatoosh/Coding/Assignments/Uni/Statistical Learning/tud-statistical-learning-practice/.venv/lib/python3.11/site-packages (from deepface) (4.67.1)\r\n",
      "Requirement already satisfied: Pillow>=5.2.0 in /Users/itsmatoosh/Coding/Assignments/Uni/Statistical Learning/tud-statistical-learning-practice/.venv/lib/python3.11/site-packages (from deepface) (10.2.0)\r\n",
      "Requirement already satisfied: Flask>=1.1.2 in /Users/itsmatoosh/Coding/Assignments/Uni/Statistical Learning/tud-statistical-learning-practice/.venv/lib/python3.11/site-packages (from deepface) (3.1.0)\r\n",
      "Requirement already satisfied: flask-cors>=4.0.1 in /Users/itsmatoosh/Coding/Assignments/Uni/Statistical Learning/tud-statistical-learning-practice/.venv/lib/python3.11/site-packages (from deepface) (5.0.1)\r\n",
      "Requirement already satisfied: mtcnn>=0.1.0 in /Users/itsmatoosh/Coding/Assignments/Uni/Statistical Learning/tud-statistical-learning-practice/.venv/lib/python3.11/site-packages (from deepface) (1.0.0)\r\n",
      "Requirement already satisfied: retina-face>=0.0.1 in /Users/itsmatoosh/Coding/Assignments/Uni/Statistical Learning/tud-statistical-learning-practice/.venv/lib/python3.11/site-packages (from deepface) (0.0.17)\r\n",
      "Requirement already satisfied: fire>=0.4.0 in /Users/itsmatoosh/Coding/Assignments/Uni/Statistical Learning/tud-statistical-learning-practice/.venv/lib/python3.11/site-packages (from deepface) (0.7.0)\r\n",
      "Requirement already satisfied: gunicorn>=20.1.0 in /Users/itsmatoosh/Coding/Assignments/Uni/Statistical Learning/tud-statistical-learning-practice/.venv/lib/python3.11/site-packages (from deepface) (23.0.0)\r\n",
      "Requirement already satisfied: wheel<1.0,>=0.23.0 in /Users/itsmatoosh/Coding/Assignments/Uni/Statistical Learning/tud-statistical-learning-practice/.venv/lib/python3.11/site-packages (from astunparse>=1.6.0->tensorflow) (0.41.2)\r\n",
      "Requirement already satisfied: Werkzeug>=3.1 in /Users/itsmatoosh/Coding/Assignments/Uni/Statistical Learning/tud-statistical-learning-practice/.venv/lib/python3.11/site-packages (from Flask>=1.1.2->deepface) (3.1.3)\r\n",
      "Requirement already satisfied: Jinja2>=3.1.2 in /Users/itsmatoosh/Coding/Assignments/Uni/Statistical Learning/tud-statistical-learning-practice/.venv/lib/python3.11/site-packages (from Flask>=1.1.2->deepface) (3.1.5)\r\n",
      "Requirement already satisfied: itsdangerous>=2.2 in /Users/itsmatoosh/Coding/Assignments/Uni/Statistical Learning/tud-statistical-learning-practice/.venv/lib/python3.11/site-packages (from Flask>=1.1.2->deepface) (2.2.0)\r\n",
      "Requirement already satisfied: click>=8.1.3 in /Users/itsmatoosh/Coding/Assignments/Uni/Statistical Learning/tud-statistical-learning-practice/.venv/lib/python3.11/site-packages (from Flask>=1.1.2->deepface) (8.1.8)\r\n",
      "Requirement already satisfied: blinker>=1.9 in /Users/itsmatoosh/Coding/Assignments/Uni/Statistical Learning/tud-statistical-learning-practice/.venv/lib/python3.11/site-packages (from Flask>=1.1.2->deepface) (1.9.0)\r\n",
      "Requirement already satisfied: beautifulsoup4 in /Users/itsmatoosh/Coding/Assignments/Uni/Statistical Learning/tud-statistical-learning-practice/.venv/lib/python3.11/site-packages (from gdown>=3.10.1->deepface) (4.12.3)\r\n",
      "Requirement already satisfied: filelock in /Users/itsmatoosh/Coding/Assignments/Uni/Statistical Learning/tud-statistical-learning-practice/.venv/lib/python3.11/site-packages (from gdown>=3.10.1->deepface) (3.17.0)\r\n",
      "Requirement already satisfied: rich in /Users/itsmatoosh/Coding/Assignments/Uni/Statistical Learning/tud-statistical-learning-practice/.venv/lib/python3.11/site-packages (from keras>=3.5.0->tensorflow) (13.9.4)\r\n",
      "Requirement already satisfied: namex in /Users/itsmatoosh/Coding/Assignments/Uni/Statistical Learning/tud-statistical-learning-practice/.venv/lib/python3.11/site-packages (from keras>=3.5.0->tensorflow) (0.0.8)\r\n",
      "Requirement already satisfied: optree in /Users/itsmatoosh/Coding/Assignments/Uni/Statistical Learning/tud-statistical-learning-practice/.venv/lib/python3.11/site-packages (from keras>=3.5.0->tensorflow) (0.14.1)\r\n",
      "Requirement already satisfied: joblib>=1.4.2 in /Users/itsmatoosh/Coding/Assignments/Uni/Statistical Learning/tud-statistical-learning-practice/.venv/lib/python3.11/site-packages (from mtcnn>=0.1.0->deepface) (1.4.2)\r\n",
      "Requirement already satisfied: lz4>=4.3.3 in /Users/itsmatoosh/Coding/Assignments/Uni/Statistical Learning/tud-statistical-learning-practice/.venv/lib/python3.11/site-packages (from mtcnn>=0.1.0->deepface) (4.4.3)\r\n",
      "Requirement already satisfied: python-dateutil>=2.8.2 in /Users/itsmatoosh/Coding/Assignments/Uni/Statistical Learning/tud-statistical-learning-practice/.venv/lib/python3.11/site-packages (from pandas>=0.23.4->deepface) (2.9.0.post0)\r\n",
      "Requirement already satisfied: pytz>=2020.1 in /Users/itsmatoosh/Coding/Assignments/Uni/Statistical Learning/tud-statistical-learning-practice/.venv/lib/python3.11/site-packages (from pandas>=0.23.4->deepface) (2024.2)\r\n",
      "Requirement already satisfied: tzdata>=2022.7 in /Users/itsmatoosh/Coding/Assignments/Uni/Statistical Learning/tud-statistical-learning-practice/.venv/lib/python3.11/site-packages (from pandas>=0.23.4->deepface) (2025.1)\r\n",
      "Requirement already satisfied: charset-normalizer<4,>=2 in /Users/itsmatoosh/Coding/Assignments/Uni/Statistical Learning/tud-statistical-learning-practice/.venv/lib/python3.11/site-packages (from requests<3,>=2.21.0->tensorflow) (3.4.1)\r\n",
      "Requirement already satisfied: idna<4,>=2.5 in /Users/itsmatoosh/Coding/Assignments/Uni/Statistical Learning/tud-statistical-learning-practice/.venv/lib/python3.11/site-packages (from requests<3,>=2.21.0->tensorflow) (3.10)\r\n",
      "Requirement already satisfied: urllib3<3,>=1.21.1 in /Users/itsmatoosh/Coding/Assignments/Uni/Statistical Learning/tud-statistical-learning-practice/.venv/lib/python3.11/site-packages (from requests<3,>=2.21.0->tensorflow) (2.3.0)\r\n",
      "Requirement already satisfied: certifi>=2017.4.17 in /Users/itsmatoosh/Coding/Assignments/Uni/Statistical Learning/tud-statistical-learning-practice/.venv/lib/python3.11/site-packages (from requests<3,>=2.21.0->tensorflow) (2024.12.14)\r\n",
      "Requirement already satisfied: markdown>=2.6.8 in /Users/itsmatoosh/Coding/Assignments/Uni/Statistical Learning/tud-statistical-learning-practice/.venv/lib/python3.11/site-packages (from tensorboard<2.19,>=2.18->tensorflow) (3.7)\r\n",
      "Requirement already satisfied: tensorboard-data-server<0.8.0,>=0.7.0 in /Users/itsmatoosh/Coding/Assignments/Uni/Statistical Learning/tud-statistical-learning-practice/.venv/lib/python3.11/site-packages (from tensorboard<2.19,>=2.18->tensorflow) (0.7.2)\r\n",
      "Requirement already satisfied: MarkupSafe>=2.0 in /Users/itsmatoosh/Coding/Assignments/Uni/Statistical Learning/tud-statistical-learning-practice/.venv/lib/python3.11/site-packages (from Jinja2>=3.1.2->Flask>=1.1.2->deepface) (3.0.2)\r\n",
      "Requirement already satisfied: soupsieve>1.2 in /Users/itsmatoosh/Coding/Assignments/Uni/Statistical Learning/tud-statistical-learning-practice/.venv/lib/python3.11/site-packages (from beautifulsoup4->gdown>=3.10.1->deepface) (2.6)\r\n",
      "Requirement already satisfied: PySocks!=1.5.7,>=1.5.6 in /Users/itsmatoosh/Coding/Assignments/Uni/Statistical Learning/tud-statistical-learning-practice/.venv/lib/python3.11/site-packages (from requests<3,>=2.21.0->tensorflow) (1.7.1)\r\n",
      "Requirement already satisfied: markdown-it-py>=2.2.0 in /Users/itsmatoosh/Coding/Assignments/Uni/Statistical Learning/tud-statistical-learning-practice/.venv/lib/python3.11/site-packages (from rich->keras>=3.5.0->tensorflow) (3.0.0)\r\n",
      "Requirement already satisfied: pygments<3.0.0,>=2.13.0 in /Users/itsmatoosh/Coding/Assignments/Uni/Statistical Learning/tud-statistical-learning-practice/.venv/lib/python3.11/site-packages (from rich->keras>=3.5.0->tensorflow) (2.19.1)\r\n",
      "Requirement already satisfied: mdurl~=0.1 in /Users/itsmatoosh/Coding/Assignments/Uni/Statistical Learning/tud-statistical-learning-practice/.venv/lib/python3.11/site-packages (from markdown-it-py>=2.2.0->rich->keras>=3.5.0->tensorflow) (0.1.2)\r\n",
      "\r\n",
      "\u001B[1m[\u001B[0m\u001B[34;49mnotice\u001B[0m\u001B[1;39;49m]\u001B[0m\u001B[39;49m A new release of pip is available: \u001B[0m\u001B[31;49m23.2.1\u001B[0m\u001B[39;49m -> \u001B[0m\u001B[32;49m25.0.1\u001B[0m\r\n",
      "\u001B[1m[\u001B[0m\u001B[34;49mnotice\u001B[0m\u001B[1;39;49m]\u001B[0m\u001B[39;49m To update, run: \u001B[0m\u001B[32;49mpip install --upgrade pip\u001B[0m\r\n",
      "Note: you may need to restart the kernel to use updated packages.\n"
     ]
    }
   ],
   "execution_count": 4
  },
  {
   "metadata": {},
   "cell_type": "markdown",
   "source": "# Recognize emotion",
   "id": "54f602f9e04a66de"
  },
  {
   "metadata": {
    "ExecuteTime": {
     "end_time": "2025-03-11T20:18:54.388005Z",
     "start_time": "2025-03-11T20:18:51.096399Z"
    }
   },
   "cell_type": "code",
   "source": "from deepface import DeepFace",
   "id": "1876019f8a87e6ab",
   "outputs": [],
   "execution_count": 5
  },
  {
   "metadata": {
    "ExecuteTime": {
     "end_time": "2025-03-11T20:18:55.481797Z",
     "start_time": "2025-03-11T20:18:55.478974Z"
    }
   },
   "cell_type": "code",
   "source": [
    "def recognize_emotion(image_data):\n",
    "    \"\"\"\n",
    "    Recognize emotion from image\n",
    "    :param image_path: image path\n",
    "    :return: recognized emotion as string\n",
    "    \"\"\"\n",
    "    # recognize face & emotions\n",
    "    faces = DeepFace.analyze(\n",
    "        img_path= image_data,\n",
    "        actions = ['emotion'],\n",
    "        enforce_detection=False,\n",
    "        detector_backend=\"retinaface\"\n",
    "    )\n",
    "    if len(faces) == 0:\n",
    "        return \"none\"\n",
    "    face = faces[0]\n",
    "    emotions = face['emotion']\n",
    "    if len(emotions) == 0:\n",
    "        return \"none\"\n",
    "\n",
    "    # get the most likely emotion\n",
    "    sorted_emotions = sorted(emotions.items(), key=lambda x: x[1], reverse=True)\n",
    "    return sorted_emotions[0][0]"
   ],
   "id": "40b76bf7bb7ad8a",
   "outputs": [],
   "execution_count": 6
  },
  {
   "metadata": {},
   "cell_type": "markdown",
   "source": "# Capture & recognize",
   "id": "c9ef0196bbde8b6a"
  },
  {
   "metadata": {
    "ExecuteTime": {
     "end_time": "2025-03-11T20:20:01.693150Z",
     "start_time": "2025-03-11T20:18:57.457490Z"
    }
   },
   "cell_type": "code",
   "source": [
    "import cv2\n",
    "\n",
    "# Start capture on the main camera\n",
    "cap = cv2.VideoCapture(0)\n",
    "while True:\n",
    "    ret, frame = cap.read()\n",
    "\n",
    "    # Perform emotion recognition on frame\n",
    "    emotion = recognize_emotion(frame)\n",
    "    print(emotion)\n",
    "\n",
    "    # Show the current frame\n",
    "    cv2.imshow('Webcam', frame)\n",
    "\n",
    "    if cv2.waitKey(1) & 0xFF == ord('q'):  # Press 'q' to exit\n",
    "        break\n",
    "\n",
    "cap.release()\n",
    "cv2.destroyAllWindows()"
   ],
   "id": "f68a0ab1d1fc2c84",
   "outputs": [
    {
     "name": "stdout",
     "output_type": "stream",
     "text": [
      "neutral\n",
      "neutral\n",
      "neutral\n",
      "sad\n"
     ]
    },
    {
     "name": "stderr",
     "output_type": "stream",
     "text": [
      "2025-03-11 21:19:03.961 python[26526:46502620] +[IMKClient subclass]: chose IMKClient_Modern\n",
      "2025-03-11 21:19:03.961 python[26526:46502620] +[IMKInputSession subclass]: chose IMKInputSession_Modern\n"
     ]
    },
    {
     "name": "stdout",
     "output_type": "stream",
     "text": [
      "happy\n",
      "fear\n",
      "neutral\n",
      "neutral\n",
      "neutral\n",
      "neutral\n",
      "neutral\n",
      "angry\n",
      "neutral\n",
      "neutral\n",
      "neutral\n",
      "neutral\n",
      "happy\n",
      "neutral\n",
      "neutral\n",
      "fear\n",
      "neutral\n",
      "neutral\n",
      "happy\n",
      "happy\n",
      "neutral\n",
      "neutral\n",
      "happy\n",
      "happy\n",
      "happy\n",
      "neutral\n",
      "happy\n",
      "neutral\n",
      "angry\n",
      "angry\n",
      "angry\n",
      "neutral\n",
      "happy\n",
      "happy\n",
      "neutral\n",
      "neutral\n",
      "neutral\n",
      "neutral\n",
      "neutral\n",
      "neutral\n",
      "sad\n",
      "neutral\n",
      "neutral\n",
      "sad\n",
      "neutral\n",
      "neutral\n",
      "neutral\n",
      "sad\n",
      "sad\n",
      "surprise\n",
      "neutral\n",
      "sad\n"
     ]
    }
   ],
   "execution_count": 7
  }
 ],
 "metadata": {
  "kernelspec": {
   "display_name": "Python 3",
   "language": "python",
   "name": "python3"
  },
  "language_info": {
   "codemirror_mode": {
    "name": "ipython",
    "version": 2
   },
   "file_extension": ".py",
   "mimetype": "text/x-python",
   "name": "python",
   "nbconvert_exporter": "python",
   "pygments_lexer": "ipython2",
   "version": "2.7.6"
  }
 },
 "nbformat": 4,
 "nbformat_minor": 5
}
