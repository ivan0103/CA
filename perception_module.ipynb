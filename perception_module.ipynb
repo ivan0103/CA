{
 "cells": [
  {
   "cell_type": "markdown",
   "metadata": {},
   "source": [
    "### Setup"
   ]
  },
  {
   "cell_type": "code",
   "execution_count": null,
   "metadata": {},
   "outputs": [],
   "source": [
    "%pip install tensorflow tf-keras deepface opencv-python pyaudio ffmpeg SpeechRecognition openai-whisper transformers"
   ]
  },
  {
   "cell_type": "code",
   "execution_count": null,
   "metadata": {},
   "outputs": [],
   "source": [
    "import speech_recognition as sr\n",
    "import whisper\n",
    "import os\n",
    "from transformers import pipeline\n",
    "from deepface import DeepFace\n",
    "import cv2\n",
    "import threading"
   ]
  },
  {
   "cell_type": "markdown",
   "metadata": {},
   "source": [
    "### Speech Recognition"
   ]
  },
  {
   "cell_type": "code",
   "execution_count": null,
   "metadata": {},
   "outputs": [],
   "source": [
    "def speech_to_text_whisper(audio):\n",
    "    \"\"\"\n",
    "    Converts recorded audio into text using OpenAI's Whisper model.\n",
    "    \n",
    "    - Loads the Whisper model (`medium`).\n",
    "    - Saves the recorded audio as a temporary WAV file.\n",
    "    - Uses Whisper to transcribe the saved audio.\n",
    "    - Deletes the temporary file after transcription.\n",
    "    \n",
    "    Args:\n",
    "        audio (sr.AudioData): The recorded audio data.\n",
    "    \n",
    "    Returns:\n",
    "        str: The transcribed text.\n",
    "    \"\"\"\n",
    "    model = whisper.load_model(\"medium\")\n",
    "    \n",
    "    temp_filename = \"temp.wav\"\n",
    "    with open(temp_filename, \"wb\") as f:\n",
    "        f.write(audio.get_wav_data())\n",
    "    \n",
    "    result = model.transcribe(temp_filename)\n",
    "    \n",
    "    os.remove(temp_filename)\n",
    "    return result[\"text\"]"
   ]
  },
  {
   "cell_type": "markdown",
   "metadata": {},
   "source": [
    "### Speech emotion"
   ]
  },
  {
   "cell_type": "code",
   "execution_count": null,
   "metadata": {},
   "outputs": [],
   "source": [
    "def get_emotion_scores(text):\n",
    "    classifier = pipeline(\"text-classification\", model=\"j-hartmann/emotion-english-distilroberta-base\", return_all_scores=True)\n",
    "    classifier(text) "
   ]
  },
  {
   "cell_type": "markdown",
   "metadata": {},
   "source": [
    "### Visual emotion thread"
   ]
  },
  {
   "cell_type": "code",
   "execution_count": null,
   "metadata": {},
   "outputs": [],
   "source": [
    "class EmotionDetectionThread(threading.Thread):\n",
    "    def __init__(self):\n",
    "        super().__init__()\n",
    "        self._stop_event = threading.Event()\n",
    "        self.cap = None\n",
    "        self.recorded = []\n",
    "\n",
    "    def recognize_emotion(self, frame):\n",
    "        try:\n",
    "            result = DeepFace.analyze(frame, actions=['emotion'], enforce_detection=False)\n",
    "            return result[0]['dominant_emotion']\n",
    "        except Exception as e:\n",
    "            print(f\"Emotion detection failed: {e}\")\n",
    "            return \"unknown\"\n",
    "\n",
    "    def run(self):\n",
    "        self.cap = cv2.VideoCapture(0)\n",
    "        if not self.cap.isOpened():\n",
    "            print(\"Error: Webcam not accessible.\")\n",
    "            return\n",
    "\n",
    "        while not self._stop_event.is_set():\n",
    "            ret, frame = self.cap.read()\n",
    "            if not ret:\n",
    "                print(\"Failed to grab frame.\")\n",
    "                break\n",
    "\n",
    "            # Detect emotion\n",
    "            emotion = self.recognize_emotion(frame)\n",
    "            self.recorded.append(emotion)\n",
    "            # Display emotion label\n",
    "            cv2.putText(frame, f'Emotion: {emotion}', (10, 30),\n",
    "                        cv2.FONT_HERSHEY_SIMPLEX, 1, (0, 255, 0), 2)\n",
    "            cv2.imshow('Webcam - Emotion Detection', frame)\n",
    "\n",
    "        self.cap.release()\n",
    "        cv2.destroyAllWindows()\n",
    "\n",
    "    def stop(self):\n",
    "        self._stop_event.set()"
   ]
  },
  {
   "cell_type": "code",
   "execution_count": null,
   "metadata": {},
   "outputs": [],
   "source": [
    "def record_audio():\n",
    "    recognizer = sr.Recognizer()\n",
    "    cap = cv2.VideoCapture(0)\n",
    "    with sr.Microphone() as source:\n",
    "        recognizer.adjust_for_ambient_noise(source)\n",
    "        print(\"Recording... Speak now!\")\n",
    "        audio = recognizer.listen(source)\n",
    "        print(\"Recording complete.\")\n",
    "        return audio\n"
   ]
  },
  {
   "cell_type": "code",
   "execution_count": null,
   "metadata": {},
   "outputs": [],
   "source": [
    "emotion_thread = EmotionDetectionThread()\n",
    "emotion_thread.start()\n",
    "audio = record_audio()\n",
    "emotion_thread.stop()\n",
    "emotion_thread.join() \n",
    "   \n",
    "print(emotion_thread.recorded)\n",
    "try:\n",
    "    whisper_text = speech_to_text_whisper(audio)\n",
    "    print(\"Whisper Transcription:\", whisper_text)\n",
    "    print(\"emotion score:\", get_emotion_scores(whisper_text))\n",
    "except Exception as e:\n",
    "    print(\"Whisper failed:\", e)"
   ]
  }
 ],
 "metadata": {
  "kernelspec": {
   "display_name": "Python 3",
   "language": "python",
   "name": "python3"
  },
  "language_info": {
   "codemirror_mode": {
    "name": "ipython",
    "version": 3
   },
   "file_extension": ".py",
   "mimetype": "text/x-python",
   "name": "python",
   "nbconvert_exporter": "python",
   "pygments_lexer": "ipython3",
   "version": "3.9.13"
  }
 },
 "nbformat": 4,
 "nbformat_minor": 2
}
